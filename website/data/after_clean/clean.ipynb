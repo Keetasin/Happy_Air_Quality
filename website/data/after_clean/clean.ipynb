{
 "cells": [
  {
   "cell_type": "code",
   "execution_count": 43,
   "metadata": {},
   "outputs": [],
   "source": [
    "import pandas as pd"
   ]
  },
  {
   "cell_type": "code",
   "execution_count": 44,
   "metadata": {},
   "outputs": [],
   "source": [
    "df1 = pd.read_csv(\"../before_clean/Songkhla.csv\")\n",
    "df2 = pd.read_csv(\"../before_clean/Mueang_Yala.csv\")\n",
    "df3 = pd.read_csv(\"../before_clean/Betong_Yala.csv\")\n",
    "df4 = pd.read_csv(\"../before_clean/Nakhon_Si_Thammarat.csv\")\n",
    "df5 = pd.read_csv(\"../before_clean/Narathiwat.csv\")\n",
    "df6 = pd.read_csv(\"../before_clean/Phuket.csv\")\n",
    "df7 = pd.read_csv(\"../before_clean/Satun.csv\")\n",
    "df8 = pd.read_csv(\"../before_clean/Surat_Thani.csv\")\n",
    "df9 = pd.read_csv(\"../before_clean/Trang.csv\")\n",
    "\n",
    "df_list = [df1, df2, df3, df4, df5, df6, df7, df8, df9]\n",
    "for df in df_list:\n",
    "    df.drop(columns=['PM10', 'O3', 'CO', 'NO2', 'SO2','WS','WD','Unnamed: 0'], inplace=True)"
   ]
  },
  {
   "cell_type": "code",
   "execution_count": 45,
   "metadata": {},
   "outputs": [
    {
     "name": "stdout",
     "output_type": "stream",
     "text": [
      "DATETIMEDATA     0\n",
      "PM25             0\n",
      "TEMP            95\n",
      "RH              93\n",
      "dtype: int64\n",
      "DATETIMEDATA     0\n",
      "PM25            24\n",
      "TEMP             0\n",
      "RH               0\n",
      "dtype: int64\n"
     ]
    }
   ],
   "source": [
    "count_zeros = (df1 == 0).sum()\n",
    "print(count_zeros)\n",
    "print(df1.isnull().sum())"
   ]
  },
  {
   "cell_type": "code",
   "execution_count": 46,
   "metadata": {},
   "outputs": [
    {
     "name": "stdout",
     "output_type": "stream",
     "text": [
      "DATETIMEDATA    0\n",
      "PM25            0\n",
      "TEMP            2\n",
      "RH              2\n",
      "dtype: int64\n",
      "DATETIMEDATA    0\n",
      "PM25            3\n",
      "TEMP            0\n",
      "RH              0\n",
      "dtype: int64\n"
     ]
    }
   ],
   "source": [
    "count_zeros = (df2 == 0).sum()\n",
    "print(count_zeros)\n",
    "print(df2.isnull().sum())"
   ]
  },
  {
   "cell_type": "code",
   "execution_count": 47,
   "metadata": {},
   "outputs": [
    {
     "name": "stdout",
     "output_type": "stream",
     "text": [
      "DATETIMEDATA     0\n",
      "PM25             0\n",
      "TEMP            16\n",
      "RH              16\n",
      "dtype: int64\n",
      "DATETIMEDATA    0\n",
      "PM25            9\n",
      "TEMP            0\n",
      "RH              0\n",
      "dtype: int64\n"
     ]
    }
   ],
   "source": [
    "count_zeros = (df3 == 0).sum()\n",
    "print(count_zeros)\n",
    "print(df3.isnull().sum())"
   ]
  },
  {
   "cell_type": "code",
   "execution_count": 48,
   "metadata": {},
   "outputs": [
    {
     "name": "stdout",
     "output_type": "stream",
     "text": [
      "DATETIMEDATA    0\n",
      "PM25            0\n",
      "TEMP            0\n",
      "RH              0\n",
      "dtype: int64\n",
      "DATETIMEDATA    0\n",
      "PM25            4\n",
      "TEMP            0\n",
      "RH              0\n",
      "dtype: int64\n"
     ]
    }
   ],
   "source": [
    "count_zeros = (df4 == 0).sum()\n",
    "print(count_zeros)\n",
    "print(df4.isnull().sum())"
   ]
  },
  {
   "cell_type": "code",
   "execution_count": 49,
   "metadata": {},
   "outputs": [
    {
     "name": "stdout",
     "output_type": "stream",
     "text": [
      "DATETIMEDATA     0\n",
      "PM25             0\n",
      "TEMP            11\n",
      "RH              11\n",
      "dtype: int64\n",
      "DATETIMEDATA     0\n",
      "PM25            21\n",
      "TEMP             0\n",
      "RH               0\n",
      "dtype: int64\n"
     ]
    }
   ],
   "source": [
    "count_zeros = (df5 == 0).sum()\n",
    "print(count_zeros)\n",
    "print(df5.isnull().sum())"
   ]
  },
  {
   "cell_type": "code",
   "execution_count": 50,
   "metadata": {},
   "outputs": [
    {
     "name": "stdout",
     "output_type": "stream",
     "text": [
      "DATETIMEDATA      0\n",
      "PM25              0\n",
      "TEMP            169\n",
      "RH              169\n",
      "dtype: int64\n",
      "DATETIMEDATA    0\n",
      "PM25            6\n",
      "TEMP            0\n",
      "RH              0\n",
      "dtype: int64\n"
     ]
    }
   ],
   "source": [
    "count_zeros = (df6 == 0).sum()\n",
    "print(count_zeros)\n",
    "print(df6.isnull().sum())"
   ]
  },
  {
   "cell_type": "code",
   "execution_count": 51,
   "metadata": {},
   "outputs": [
    {
     "name": "stdout",
     "output_type": "stream",
     "text": [
      "DATETIMEDATA    0\n",
      "PM25            0\n",
      "TEMP            0\n",
      "RH              0\n",
      "dtype: int64\n",
      "DATETIMEDATA    0\n",
      "PM25            0\n",
      "TEMP            0\n",
      "RH              0\n",
      "dtype: int64\n"
     ]
    }
   ],
   "source": [
    "count_zeros = (df7 == 0).sum()\n",
    "print(count_zeros)\n",
    "print(df7.isnull().sum())"
   ]
  },
  {
   "cell_type": "code",
   "execution_count": 52,
   "metadata": {},
   "outputs": [
    {
     "name": "stdout",
     "output_type": "stream",
     "text": [
      "DATETIMEDATA     0\n",
      "PM25             0\n",
      "TEMP            26\n",
      "RH              26\n",
      "dtype: int64\n",
      "DATETIMEDATA     0\n",
      "PM25            65\n",
      "TEMP             0\n",
      "RH               0\n",
      "dtype: int64\n"
     ]
    }
   ],
   "source": [
    "count_zeros = (df8 == 0).sum()\n",
    "print(count_zeros)\n",
    "print(df8.isnull().sum())"
   ]
  },
  {
   "cell_type": "code",
   "execution_count": 53,
   "metadata": {},
   "outputs": [
    {
     "name": "stdout",
     "output_type": "stream",
     "text": [
      "DATETIMEDATA     0\n",
      "PM25             0\n",
      "TEMP            20\n",
      "RH              20\n",
      "dtype: int64\n",
      "DATETIMEDATA     0\n",
      "PM25            18\n",
      "TEMP             0\n",
      "RH               0\n",
      "dtype: int64\n"
     ]
    }
   ],
   "source": [
    "count_zeros = (df9 == 0).sum()\n",
    "print(count_zeros)\n",
    "print(df9.isnull().sum())"
   ]
  },
  {
   "cell_type": "code",
   "execution_count": 54,
   "metadata": {},
   "outputs": [],
   "source": [
    "variable_list = ['TEMP','RH']\n",
    "Province = [\"Songkhla\",\"Mueang_Yala\",\"Betong_Yala\",\"Nakhon_Si_Thammarat\",\"Narathiwat\",\"Phuket\",\"Satun\",\"Surat_Thani\",\"Trang\"]\n",
    "count = 0\n",
    "for df in df_list:\n",
    "    for i in variable_list:\n",
    "        df['DATETIMEDATA'] = pd.to_datetime(df['DATETIMEDATA'])\n",
    "        mean_PM25_by_date = df.groupby(df['DATETIMEDATA'].dt.date)[i].mean().reset_index()\n",
    "\n",
    "        df[i] = df.apply(lambda row: mean_PM25_by_date[mean_PM25_by_date['DATETIMEDATA'] ==row['DATETIMEDATA'].date()][i].values[0] if row[i] == 0 else row[i], axis=1)\n",
    "        df[i].replace(0, df[i].mean(), inplace=True)\n",
    "\n",
    "for df in df_list:\n",
    "    df['DATETIMEDATA'] = pd.to_datetime(df['DATETIMEDATA'])\n",
    "    mean_PM25_by_date = df.groupby(df['DATETIMEDATA'].dt.date)['PM25'].mean().reset_index()\n",
    "    df['PM25'] = df.apply(lambda row: mean_PM25_by_date[mean_PM25_by_date['DATETIMEDATA'] == row['DATETIMEDATA'].date()]['PM25'].values[0] if pd.isnull(row['PM25']) else row['PM25'], axis=1)\n",
    "    df['PM25'].fillna(df['PM25'].mean(), inplace=True)\n",
    "\n",
    "    df['DATE'] = df['DATETIMEDATA'].dt.date\n",
    "    df['TIME'] = df['DATETIMEDATA'].dt.time\n",
    "\n",
    "    df.drop(columns=['DATETIMEDATA'], inplace=True)\n",
    "\n",
    "    cols = list(df.columns)\n",
    "    cols.remove('DATE')  \n",
    "    cols.insert(0, 'DATE')  \n",
    "    cols.remove('TIME')  \n",
    "    cols.insert(1, 'TIME')  \n",
    "    df = df[cols]\n",
    "        \n",
    "    df.to_csv(f'../after_clean/cleaned_{Province[count]}.csv', index=False)\n",
    "    count += 1 \n"
   ]
  },
  {
   "cell_type": "code",
   "execution_count": 55,
   "metadata": {},
   "outputs": [
    {
     "name": "stdout",
     "output_type": "stream",
     "text": [
      "PM25    0\n",
      "TEMP    0\n",
      "RH      0\n",
      "DATE    0\n",
      "TIME    0\n",
      "dtype: int64\n",
      "PM25    0\n",
      "TEMP    0\n",
      "RH      0\n",
      "DATE    0\n",
      "TIME    0\n",
      "dtype: int64\n"
     ]
    }
   ],
   "source": [
    "count_zeros = (df1 == 0).sum()\n",
    "print(count_zeros)\n",
    "print(df1.isnull().sum())"
   ]
  },
  {
   "cell_type": "code",
   "execution_count": 56,
   "metadata": {},
   "outputs": [
    {
     "name": "stdout",
     "output_type": "stream",
     "text": [
      "PM25    0\n",
      "TEMP    0\n",
      "RH      0\n",
      "DATE    0\n",
      "TIME    0\n",
      "dtype: int64\n",
      "PM25    0\n",
      "TEMP    0\n",
      "RH      0\n",
      "DATE    0\n",
      "TIME    0\n",
      "dtype: int64\n"
     ]
    }
   ],
   "source": [
    "count_zeros = (df2 == 0).sum()\n",
    "print(count_zeros)\n",
    "print(df2.isnull().sum())"
   ]
  },
  {
   "cell_type": "code",
   "execution_count": 57,
   "metadata": {},
   "outputs": [
    {
     "name": "stdout",
     "output_type": "stream",
     "text": [
      "PM25    0\n",
      "TEMP    0\n",
      "RH      0\n",
      "DATE    0\n",
      "TIME    0\n",
      "dtype: int64\n",
      "PM25    0\n",
      "TEMP    0\n",
      "RH      0\n",
      "DATE    0\n",
      "TIME    0\n",
      "dtype: int64\n"
     ]
    }
   ],
   "source": [
    "count_zeros = (df3 == 0).sum()\n",
    "print(count_zeros)\n",
    "print(df3.isnull().sum())"
   ]
  },
  {
   "cell_type": "code",
   "execution_count": 58,
   "metadata": {},
   "outputs": [
    {
     "name": "stdout",
     "output_type": "stream",
     "text": [
      "PM25    0\n",
      "TEMP    0\n",
      "RH      0\n",
      "DATE    0\n",
      "TIME    0\n",
      "dtype: int64\n",
      "PM25    0\n",
      "TEMP    0\n",
      "RH      0\n",
      "DATE    0\n",
      "TIME    0\n",
      "dtype: int64\n"
     ]
    }
   ],
   "source": [
    "count_zeros = (df4 == 0).sum()\n",
    "print(count_zeros)\n",
    "print(df4.isnull().sum())"
   ]
  },
  {
   "cell_type": "code",
   "execution_count": 59,
   "metadata": {},
   "outputs": [
    {
     "name": "stdout",
     "output_type": "stream",
     "text": [
      "PM25    0\n",
      "TEMP    0\n",
      "RH      0\n",
      "DATE    0\n",
      "TIME    0\n",
      "dtype: int64\n",
      "PM25    0\n",
      "TEMP    0\n",
      "RH      0\n",
      "DATE    0\n",
      "TIME    0\n",
      "dtype: int64\n"
     ]
    }
   ],
   "source": [
    "count_zeros = (df5 == 0).sum()\n",
    "print(count_zeros)\n",
    "print(df5.isnull().sum())"
   ]
  },
  {
   "cell_type": "code",
   "execution_count": 60,
   "metadata": {},
   "outputs": [
    {
     "name": "stdout",
     "output_type": "stream",
     "text": [
      "PM25    0\n",
      "TEMP    0\n",
      "RH      0\n",
      "DATE    0\n",
      "TIME    0\n",
      "dtype: int64\n",
      "PM25    0\n",
      "TEMP    0\n",
      "RH      0\n",
      "DATE    0\n",
      "TIME    0\n",
      "dtype: int64\n"
     ]
    }
   ],
   "source": [
    "count_zeros = (df6 == 0).sum()\n",
    "print(count_zeros)\n",
    "print(df6.isnull().sum())"
   ]
  },
  {
   "cell_type": "code",
   "execution_count": 61,
   "metadata": {},
   "outputs": [
    {
     "name": "stdout",
     "output_type": "stream",
     "text": [
      "PM25    0\n",
      "TEMP    0\n",
      "RH      0\n",
      "DATE    0\n",
      "TIME    0\n",
      "dtype: int64\n",
      "PM25    0\n",
      "TEMP    0\n",
      "RH      0\n",
      "DATE    0\n",
      "TIME    0\n",
      "dtype: int64\n"
     ]
    }
   ],
   "source": [
    "count_zeros = (df7 == 0).sum()\n",
    "print(count_zeros)\n",
    "print(df7.isnull().sum())"
   ]
  },
  {
   "cell_type": "code",
   "execution_count": 62,
   "metadata": {},
   "outputs": [
    {
     "name": "stdout",
     "output_type": "stream",
     "text": [
      "PM25    0\n",
      "TEMP    0\n",
      "RH      0\n",
      "DATE    0\n",
      "TIME    0\n",
      "dtype: int64\n",
      "PM25    0\n",
      "TEMP    0\n",
      "RH      0\n",
      "DATE    0\n",
      "TIME    0\n",
      "dtype: int64\n"
     ]
    }
   ],
   "source": [
    "count_zeros = (df8 == 0).sum()\n",
    "print(count_zeros)\n",
    "print(df8.isnull().sum())"
   ]
  },
  {
   "cell_type": "code",
   "execution_count": 63,
   "metadata": {},
   "outputs": [
    {
     "name": "stdout",
     "output_type": "stream",
     "text": [
      "PM25    0\n",
      "TEMP    0\n",
      "RH      0\n",
      "DATE    0\n",
      "TIME    0\n",
      "dtype: int64\n",
      "PM25    0\n",
      "TEMP    0\n",
      "RH      0\n",
      "DATE    0\n",
      "TIME    0\n",
      "dtype: int64\n"
     ]
    }
   ],
   "source": [
    "count_zeros = (df9 == 0).sum()\n",
    "print(count_zeros)\n",
    "print(df9.isnull().sum())"
   ]
  }
 ],
 "metadata": {
  "kernelspec": {
   "display_name": "Python 3",
   "language": "python",
   "name": "python3"
  },
  "language_info": {
   "codemirror_mode": {
    "name": "ipython",
    "version": 3
   },
   "file_extension": ".py",
   "mimetype": "text/x-python",
   "name": "python",
   "nbconvert_exporter": "python",
   "pygments_lexer": "ipython3",
   "version": "3.10.8"
  }
 },
 "nbformat": 4,
 "nbformat_minor": 2
}
