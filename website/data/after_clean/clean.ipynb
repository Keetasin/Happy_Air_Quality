{
 "cells": [
  {
   "cell_type": "code",
   "execution_count": 1,
   "metadata": {},
   "outputs": [],
   "source": [
    "import pandas as pd"
   ]
  },
  {
   "cell_type": "code",
   "execution_count": 2,
   "metadata": {},
   "outputs": [],
   "source": [
    "df1 = pd.read_csv(\"../before_clean/Songkhla.csv\")\n",
    "df2 = pd.read_csv(\"../before_clean/Mueang_Yala.csv\")\n",
    "df3 = pd.read_csv(\"../before_clean/Betong_Yala.csv\")\n",
    "df4 = pd.read_csv(\"../before_clean/Nakhon_Si_Thammarat.csv\")\n",
    "df5 = pd.read_csv(\"../before_clean/Narathiwat.csv\")\n",
    "df6 = pd.read_csv(\"../before_clean/Phuket.csv\")\n",
    "df7 = pd.read_csv(\"../before_clean/Satun.csv\")\n",
    "df8 = pd.read_csv(\"../before_clean/Surat_Thani.csv\")\n",
    "df9 = pd.read_csv(\"../before_clean/Trang.csv\")\n",
    "\n",
    "df_list = [df1, df2, df3, df4, df5, df6, df7, df8, df9]\n",
    "for df in df_list:\n",
    "    df.drop(columns=['PM10', 'O3', 'CO', 'NO2', 'SO2','WS','WD','Unnamed: 0'], inplace=True)"
   ]
  },
  {
   "cell_type": "code",
   "execution_count": 3,
   "metadata": {},
   "outputs": [
    {
     "name": "stdout",
     "output_type": "stream",
     "text": [
      "DATETIMEDATA     0\n",
      "PM25             0\n",
      "TEMP            95\n",
      "RH              93\n",
      "dtype: int64\n",
      "DATETIMEDATA     0\n",
      "PM25            24\n",
      "TEMP             0\n",
      "RH               0\n",
      "dtype: int64\n"
     ]
    }
   ],
   "source": [
    "count_zeros = (df1 == 0).sum()\n",
    "print(count_zeros)\n",
    "print(df1.isnull().sum())"
   ]
  },
  {
   "cell_type": "code",
   "execution_count": 4,
   "metadata": {},
   "outputs": [
    {
     "name": "stdout",
     "output_type": "stream",
     "text": [
      "DATETIMEDATA    0\n",
      "PM25            0\n",
      "TEMP            2\n",
      "RH              2\n",
      "dtype: int64\n",
      "DATETIMEDATA    0\n",
      "PM25            3\n",
      "TEMP            0\n",
      "RH              0\n",
      "dtype: int64\n"
     ]
    }
   ],
   "source": [
    "count_zeros = (df2 == 0).sum()\n",
    "print(count_zeros)\n",
    "print(df2.isnull().sum())"
   ]
  },
  {
   "cell_type": "code",
   "execution_count": 5,
   "metadata": {},
   "outputs": [
    {
     "name": "stdout",
     "output_type": "stream",
     "text": [
      "DATETIMEDATA     0\n",
      "PM25             0\n",
      "TEMP            16\n",
      "RH              16\n",
      "dtype: int64\n",
      "DATETIMEDATA    0\n",
      "PM25            9\n",
      "TEMP            0\n",
      "RH              0\n",
      "dtype: int64\n"
     ]
    }
   ],
   "source": [
    "count_zeros = (df3 == 0).sum()\n",
    "print(count_zeros)\n",
    "print(df3.isnull().sum())"
   ]
  },
  {
   "cell_type": "code",
   "execution_count": 6,
   "metadata": {},
   "outputs": [
    {
     "name": "stdout",
     "output_type": "stream",
     "text": [
      "DATETIMEDATA    0\n",
      "PM25            0\n",
      "TEMP            0\n",
      "RH              0\n",
      "dtype: int64\n",
      "DATETIMEDATA    0\n",
      "PM25            4\n",
      "TEMP            0\n",
      "RH              0\n",
      "dtype: int64\n"
     ]
    }
   ],
   "source": [
    "count_zeros = (df4 == 0).sum()\n",
    "print(count_zeros)\n",
    "print(df4.isnull().sum())"
   ]
  },
  {
   "cell_type": "code",
   "execution_count": 7,
   "metadata": {},
   "outputs": [
    {
     "name": "stdout",
     "output_type": "stream",
     "text": [
      "DATETIMEDATA     0\n",
      "PM25             0\n",
      "TEMP            11\n",
      "RH              11\n",
      "dtype: int64\n",
      "DATETIMEDATA     0\n",
      "PM25            21\n",
      "TEMP             0\n",
      "RH               0\n",
      "dtype: int64\n"
     ]
    }
   ],
   "source": [
    "count_zeros = (df5 == 0).sum()\n",
    "print(count_zeros)\n",
    "print(df5.isnull().sum())"
   ]
  },
  {
   "cell_type": "code",
   "execution_count": 8,
   "metadata": {},
   "outputs": [
    {
     "name": "stdout",
     "output_type": "stream",
     "text": [
      "DATETIMEDATA      0\n",
      "PM25              0\n",
      "TEMP            169\n",
      "RH              169\n",
      "dtype: int64\n",
      "DATETIMEDATA    0\n",
      "PM25            6\n",
      "TEMP            0\n",
      "RH              0\n",
      "dtype: int64\n"
     ]
    }
   ],
   "source": [
    "count_zeros = (df6 == 0).sum()\n",
    "print(count_zeros)\n",
    "print(df6.isnull().sum())"
   ]
  },
  {
   "cell_type": "code",
   "execution_count": 9,
   "metadata": {},
   "outputs": [
    {
     "name": "stdout",
     "output_type": "stream",
     "text": [
      "DATETIMEDATA    0\n",
      "PM25            0\n",
      "TEMP            0\n",
      "RH              0\n",
      "dtype: int64\n",
      "DATETIMEDATA    0\n",
      "PM25            0\n",
      "TEMP            0\n",
      "RH              0\n",
      "dtype: int64\n"
     ]
    }
   ],
   "source": [
    "count_zeros = (df7 == 0).sum()\n",
    "print(count_zeros)\n",
    "print(df7.isnull().sum())"
   ]
  },
  {
   "cell_type": "code",
   "execution_count": 10,
   "metadata": {},
   "outputs": [
    {
     "name": "stdout",
     "output_type": "stream",
     "text": [
      "DATETIMEDATA     0\n",
      "PM25             0\n",
      "TEMP            26\n",
      "RH              26\n",
      "dtype: int64\n",
      "DATETIMEDATA     0\n",
      "PM25            65\n",
      "TEMP             0\n",
      "RH               0\n",
      "dtype: int64\n"
     ]
    }
   ],
   "source": [
    "count_zeros = (df8 == 0).sum()\n",
    "print(count_zeros)\n",
    "print(df8.isnull().sum())"
   ]
  },
  {
   "cell_type": "code",
   "execution_count": 11,
   "metadata": {},
   "outputs": [
    {
     "name": "stdout",
     "output_type": "stream",
     "text": [
      "DATETIMEDATA     0\n",
      "PM25             0\n",
      "TEMP            20\n",
      "RH              20\n",
      "dtype: int64\n",
      "DATETIMEDATA     0\n",
      "PM25            18\n",
      "TEMP             0\n",
      "RH               0\n",
      "dtype: int64\n"
     ]
    }
   ],
   "source": [
    "count_zeros = (df9 == 0).sum()\n",
    "print(count_zeros)\n",
    "print(df9.isnull().sum())"
   ]
  }
 ],
 "metadata": {
  "kernelspec": {
   "display_name": "Python 3",
   "language": "python",
   "name": "python3"
  },
  "language_info": {
   "codemirror_mode": {
    "name": "ipython",
    "version": 3
   },
   "file_extension": ".py",
   "mimetype": "text/x-python",
   "name": "python",
   "nbconvert_exporter": "python",
   "pygments_lexer": "ipython3",
   "version": "3.11.8"
  }
 },
 "nbformat": 4,
 "nbformat_minor": 2
}
