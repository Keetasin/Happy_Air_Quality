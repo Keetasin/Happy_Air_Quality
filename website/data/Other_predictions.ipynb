{
 "cells": [
  {
   "cell_type": "code",
   "execution_count": null,
   "metadata": {},
   "outputs": [],
   "source": [
    "# !pip install --pre pycaret[full]\n",
    "# !pip install packaging==21.3"
   ]
  },
  {
   "cell_type": "code",
   "execution_count": null,
   "metadata": {},
   "outputs": [],
   "source": [
    "# !pip install --upgrade packaging\n",
    "# !pip install --upgrade pycaret"
   ]
  },
  {
   "cell_type": "code",
   "execution_count": null,
   "metadata": {},
   "outputs": [],
   "source": [
    "import pandas as pd\n",
    "import numpy as np\n",
    "import warnings\n",
    "from pycaret.time_series import *\n",
    "from sktime.forecasting.model_selection import SlidingWindowSplitter\n",
    "\n",
    "warnings.filterwarnings('ignore')"
   ]
  },
  {
   "cell_type": "code",
   "execution_count": null,
   "metadata": {},
   "outputs": [],
   "source": [
    "df1 = pd.read_csv(\"./after_clean/cleaned_Songkhla.csv\")\n",
    "df2 = pd.read_csv(\"./after_clean/cleaned_Mueang_Yala.csv\")\n",
    "df3 = pd.read_csv(\"./after_clean/cleaned_Betong_Yala.csv\")\n",
    "df4 = pd.read_csv(\"./after_clean/cleaned_Nakhon_Si_Thammarat.csv\")\n",
    "df5 = pd.read_csv(\"./after_clean/cleaned_Narathiwat.csv\")\n",
    "df6 = pd.read_csv(\"./after_clean/cleaned_Phuket.csv\")\n",
    "df7 = pd.read_csv(\"./after_clean/cleaned_Satun.csv\")\n",
    "df8 = pd.read_csv(\"./after_clean/cleaned_Surat_Thani.csv\")\n",
    "df9 = pd.read_csv(\"./after_clean/cleaned_Trang.csv\")\n",
    "\n",
    "df_list = [df1, df2, df3, df4, df5, df6, df7, df8, df9]"
   ]
  },
  {
   "cell_type": "code",
   "execution_count": null,
   "metadata": {},
   "outputs": [],
   "source": [
    "province_list = [\"Songkhla\",\"Mueang_Yala\",\"Betong_Yala\",\n",
    "            \"Nakhon_Si_Thammarat\",\"Narathiwat\",\"Phuket\",\n",
    "            \"Satun\",\"Surat_Thani\",\"Trang\"]\n",
    "variable_list = ['TEMP','RH']"
   ]
  },
  {
   "cell_type": "code",
   "execution_count": null,
   "metadata": {},
   "outputs": [],
   "source": [
    "for i, df in enumerate(df_list):\n",
    "    df[\"DATETIMEDATA\"] = pd.to_datetime(df[\"DATE\"] + ' ' + df[\"TIME\"], format=\"%Y-%m-%d %H:%M:%S\")\n",
    "    df[\"DATETIMEDATA\"] = pd.to_datetime(df[\"DATETIMEDATA\"], format=\"%Y-%m-%d\")\n",
    "    df.sort_values(\"DATETIMEDATA\", inplace=True)\n",
    "\n",
    "for var in variable_list:\n",
    "    if 'DATETIMEDATA' not in df.columns or var not in df.columns:\n",
    "        print(f\"Warning: Required columns missing in DataFrame {i+1} for variable {var}\")\n",
    "        continue\n",
    "    df1 = df[['DATETIMEDATA', var]]\n",
    "    df1 = df1.set_index('DATETIMEDATA')\n",
    "\n",
    "    exp = TSForecastingExperiment()\n",
    "    exp.setup(data=df1, target=var, coverage=0.90, fold_strategy=SlidingWindowSplitter(fh=np.arange(1,25), window_length=130, step_length=130))\n",
    "    exp.compare_models(sort='rmse')\n"
   ]
  },
  {
   "cell_type": "code",
   "execution_count": null,
   "metadata": {},
   "outputs": [],
   "source": [
    "best_models = ['dt_cds_dt','huber_cds_dt']"
   ]
  },
  {
   "cell_type": "code",
   "execution_count": null,
   "metadata": {},
   "outputs": [],
   "source": [
    "for variable in variable_list:\n",
    "    for  df, province in zip(df_list, province_list):\n",
    "        for i in best_models :\n",
    "            if \"DATETIMEDATA\" in df.columns and variable in df.columns:\n",
    "                df = df[['DATETIMEDATA', variable]]\n",
    "                df.set_index('DATETIMEDATA', inplace=True)\n",
    "                \n",
    "                exp = TSForecastingExperiment()\n",
    "                exp.setup(data=df, target=variable, coverage=0.90,\n",
    "                        fold_strategy=SlidingWindowSplitter(fh=np.arange(1, 25),\n",
    "                                                            window_length=130,\n",
    "                                                            step_length=130))\n",
    "\n",
    "                model = exp.create_model(i)\n",
    "                tuned_model = exp.tune_model(model)\n",
    "                holdout_pred = exp.predict_model(tuned_model)\n",
    "                final_model = exp.finalize_model(tuned_model)\n",
    "                \n",
    "                unseen_predictions = exp.predict_model(final_model, fh=168)\n",
    "                unseen_predictions = unseen_predictions.rename(columns={'y_pred': variable})\n",
    "                DATETIMEDATA = pd.date_range(start='2024-03-13', end='2024-03-19 23:00:00', freq='H')\n",
    "                unseen_predictions['DATETIMEDATA'] = DATETIMEDATA\n",
    "\n",
    "                unseen_predictions['DATE'] = unseen_predictions['DATETIMEDATA'].dt.date\n",
    "                unseen_predictions['TIME'] = unseen_predictions['DATETIMEDATA'].dt.time\n",
    "\n",
    "                unseen_predictions.drop(columns=['DATETIMEDATA'], inplace=True)\n",
    "\n",
    "                cols = list(unseen_predictions.columns)\n",
    "                cols.remove(variable) \n",
    "                cols.insert(2, variable)  \n",
    "                unseen_predictions = unseen_predictions[cols]\n",
    "                \n",
    "                unseen_predictions.to_csv(f'./{variable}_predictions/{variable}_{province}.csv', index=False)\n",
    "            else:\n",
    "                print(f\"Required columns not found in {province} DataFrame.\")"
   ]
  }
 ],
 "metadata": {
  "kernelspec": {
   "display_name": "Python 3",
   "language": "python",
   "name": "python3"
  },
  "language_info": {
   "codemirror_mode": {
    "name": "ipython",
    "version": 3
   },
   "file_extension": ".py",
   "mimetype": "text/x-python",
   "name": "python",
   "nbconvert_exporter": "python",
   "pygments_lexer": "ipython3",
   "version": "3.10.8"
  }
 },
 "nbformat": 4,
 "nbformat_minor": 2
}
